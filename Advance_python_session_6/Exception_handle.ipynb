{
 "cells": [
  {
   "cell_type": "markdown",
   "metadata": {},
   "source": [
    "## Exception handling in python\n",
    "#### Syntax Errors - Cannot Be handled (you need to correct syntax)"
   ]
  },
  {
   "cell_type": "code",
   "execution_count": 2,
   "metadata": {},
   "outputs": [
    {
     "ename": "IndentationError",
     "evalue": "expected an indented block after 'if' statement on line 2 (2171502371.py, line 3)",
     "output_type": "error",
     "traceback": [
      "\u001b[1;36m  Cell \u001b[1;32mIn[2], line 3\u001b[1;36m\u001b[0m\n\u001b[1;33m    print('You are elegible to vote')\u001b[0m\n\u001b[1;37m    ^\u001b[0m\n\u001b[1;31mIndentationError\u001b[0m\u001b[1;31m:\u001b[0m expected an indented block after 'if' statement on line 2\n"
     ]
    }
   ],
   "source": [
    "age = 32\n",
    "if age>=18:\n",
    "print('You are elegible to vote')"
   ]
  },
  {
   "cell_type": "code",
   "execution_count": 3,
   "metadata": {},
   "outputs": [
    {
     "ename": "TypeError",
     "evalue": "'builtin_function_or_method' object is not subscriptable",
     "output_type": "error",
     "traceback": [
      "\u001b[1;31m---------------------------------------------------------------------------\u001b[0m",
      "\u001b[1;31mTypeError\u001b[0m                                 Traceback (most recent call last)",
      "\u001b[1;32me:\\Advance_Python\\repository\\Advance_python_session_6\\Exception_handle.ipynb Cell 3\u001b[0m line \u001b[0;36m1\n\u001b[1;32m----> <a href='vscode-notebook-cell:/e%3A/Advance_Python/repository/Advance_python_session_6/Exception_handle.ipynb#W2sZmlsZQ%3D%3D?line=0'>1</a>\u001b[0m \u001b[39mprint\u001b[39;49m[\u001b[39m'\u001b[39;49m\u001b[39mexample\u001b[39;49m\u001b[39m'\u001b[39;49m]\n",
      "\u001b[1;31mTypeError\u001b[0m: 'builtin_function_or_method' object is not subscriptable"
     ]
    }
   ],
   "source": [
    "print['example']"
   ]
  },
  {
   "cell_type": "markdown",
   "metadata": {},
   "source": [
    "### Exceptions in python"
   ]
  },
  {
   "cell_type": "code",
   "execution_count": 14,
   "metadata": {},
   "outputs": [
    {
     "ename": "ZeroDivisionError",
     "evalue": "division by zero",
     "output_type": "error",
     "traceback": [
      "\u001b[1;31m---------------------------------------------------------------------------\u001b[0m",
      "\u001b[1;31mZeroDivisionError\u001b[0m                         Traceback (most recent call last)",
      "\u001b[1;32me:\\Advance_Python\\repository\\Advance_python_session_6\\Exception_handle.ipynb Cell 5\u001b[0m line \u001b[0;36m3\n\u001b[0;32m      <a href='vscode-notebook-cell:/e%3A/Advance_Python/repository/Advance_python_session_6/Exception_handle.ipynb#W4sZmlsZQ%3D%3D?line=0'>1</a>\u001b[0m a \u001b[39m=\u001b[39m \u001b[39m23\u001b[39m\n\u001b[0;32m      <a href='vscode-notebook-cell:/e%3A/Advance_Python/repository/Advance_python_session_6/Exception_handle.ipynb#W4sZmlsZQ%3D%3D?line=1'>2</a>\u001b[0m b \u001b[39m=\u001b[39m \u001b[39m0\u001b[39m\n\u001b[1;32m----> <a href='vscode-notebook-cell:/e%3A/Advance_Python/repository/Advance_python_session_6/Exception_handle.ipynb#W4sZmlsZQ%3D%3D?line=2'>3</a>\u001b[0m \u001b[39mprint\u001b[39m(a\u001b[39m/\u001b[39;49mb)\n",
      "\u001b[1;31mZeroDivisionError\u001b[0m: division by zero"
     ]
    }
   ],
   "source": [
    "a = 23\n",
    "b = 0\n",
    "print(a/b)"
   ]
  },
  {
   "cell_type": "code",
   "execution_count": null,
   "metadata": {},
   "outputs": [
    {
     "ename": "TypeError",
     "evalue": "unsupported operand type(s) for /: 'str' and 'int'",
     "output_type": "error",
     "traceback": [
      "\u001b[1;31m---------------------------------------------------------------------------\u001b[0m",
      "\u001b[1;31mTypeError\u001b[0m                                 Traceback (most recent call last)",
      "\u001b[1;32me:\\Advance_Python\\repository\\Advance_python_session_6\\Exception_handle.ipynb Cell 6\u001b[0m line \u001b[0;36m3\n\u001b[0;32m      <a href='vscode-notebook-cell:/e%3A/Advance_Python/repository/Advance_python_session_6/Exception_handle.ipynb#W5sZmlsZQ%3D%3D?line=0'>1</a>\u001b[0m c \u001b[39m=\u001b[39m \u001b[39m'\u001b[39m\u001b[39mETLhive\u001b[39m\u001b[39m'\u001b[39m\n\u001b[0;32m      <a href='vscode-notebook-cell:/e%3A/Advance_Python/repository/Advance_python_session_6/Exception_handle.ipynb#W5sZmlsZQ%3D%3D?line=1'>2</a>\u001b[0m d \u001b[39m=\u001b[39m \u001b[39m3\u001b[39m \n\u001b[1;32m----> <a href='vscode-notebook-cell:/e%3A/Advance_Python/repository/Advance_python_session_6/Exception_handle.ipynb#W5sZmlsZQ%3D%3D?line=2'>3</a>\u001b[0m \u001b[39mprint\u001b[39m(c\u001b[39m/\u001b[39;49md)\n",
      "\u001b[1;31mTypeError\u001b[0m: unsupported operand type(s) for /: 'str' and 'int'"
     ]
    }
   ],
   "source": [
    "c = 'ETLhive'\n",
    "d = 3 \n",
    "print(c/d)"
   ]
  },
  {
   "cell_type": "code",
   "execution_count": null,
   "metadata": {},
   "outputs": [
    {
     "ename": "ValueError",
     "evalue": "invalid literal for int() with base 10: 'a'",
     "output_type": "error",
     "traceback": [
      "\u001b[1;31m---------------------------------------------------------------------------\u001b[0m",
      "\u001b[1;31mValueError\u001b[0m                                Traceback (most recent call last)",
      "\u001b[1;32me:\\Advance_Python\\repository\\Advance_python_session_6\\Exception_handle.ipynb Cell 7\u001b[0m line \u001b[0;36m1\n\u001b[1;32m----> <a href='vscode-notebook-cell:/e%3A/Advance_Python/repository/Advance_python_session_6/Exception_handle.ipynb#W6sZmlsZQ%3D%3D?line=0'>1</a>\u001b[0m \u001b[39mint\u001b[39;49m(\u001b[39m'\u001b[39;49m\u001b[39ma\u001b[39;49m\u001b[39m'\u001b[39;49m)\n",
      "\u001b[1;31mValueError\u001b[0m: invalid literal for int() with base 10: 'a'"
     ]
    }
   ],
   "source": [
    "int('a')"
   ]
  },
  {
   "cell_type": "code",
   "execution_count": null,
   "metadata": {},
   "outputs": [
    {
     "ename": "ValueError",
     "evalue": "could not convert string to float: '$12.6'",
     "output_type": "error",
     "traceback": [
      "\u001b[1;31m---------------------------------------------------------------------------\u001b[0m",
      "\u001b[1;31mValueError\u001b[0m                                Traceback (most recent call last)",
      "\u001b[1;32me:\\Advance_Python\\repository\\Advance_python_session_6\\Exception_handle.ipynb Cell 8\u001b[0m line \u001b[0;36m1\n\u001b[1;32m----> <a href='vscode-notebook-cell:/e%3A/Advance_Python/repository/Advance_python_session_6/Exception_handle.ipynb#X10sZmlsZQ%3D%3D?line=0'>1</a>\u001b[0m \u001b[39mfloat\u001b[39;49m(\u001b[39m'\u001b[39;49m\u001b[39m$12.6\u001b[39;49m\u001b[39m'\u001b[39;49m)\n",
      "\u001b[1;31mValueError\u001b[0m: could not convert string to float: '$12.6'"
     ]
    }
   ],
   "source": [
    "float('$12.6')"
   ]
  },
  {
   "cell_type": "markdown",
   "metadata": {},
   "source": [
    "### A simple function to divide two numbers"
   ]
  },
  {
   "cell_type": "code",
   "execution_count": null,
   "metadata": {},
   "outputs": [],
   "source": [
    "def divide():\n",
    "    a = float(input('Please Enter Numertor : '))\n",
    "    b = float(input('Please Enter Denomenator : '))\n",
    "    div = a/b\n",
    "    return div"
   ]
  },
  {
   "cell_type": "code",
   "execution_count": null,
   "metadata": {},
   "outputs": [
    {
     "data": {
      "text/plain": [
       "9.0"
      ]
     },
     "execution_count": 10,
     "metadata": {},
     "output_type": "execute_result"
    }
   ],
   "source": [
    "divide()"
   ]
  },
  {
   "cell_type": "code",
   "execution_count": null,
   "metadata": {},
   "outputs": [
    {
     "ename": "ZeroDivisionError",
     "evalue": "float division by zero",
     "output_type": "error",
     "traceback": [
      "\u001b[1;31m---------------------------------------------------------------------------\u001b[0m",
      "\u001b[1;31mZeroDivisionError\u001b[0m                         Traceback (most recent call last)",
      "\u001b[1;32me:\\Advance_Python\\repository\\Advance_python_session_6\\Exception_handle.ipynb Cell 12\u001b[0m line \u001b[0;36m1\n\u001b[1;32m----> <a href='vscode-notebook-cell:/e%3A/Advance_Python/repository/Advance_python_session_6/Exception_handle.ipynb#X14sZmlsZQ%3D%3D?line=0'>1</a>\u001b[0m divide()\n",
      "\u001b[1;32me:\\Advance_Python\\repository\\Advance_python_session_6\\Exception_handle.ipynb Cell 12\u001b[0m line \u001b[0;36m4\n\u001b[0;32m      <a href='vscode-notebook-cell:/e%3A/Advance_Python/repository/Advance_python_session_6/Exception_handle.ipynb#X14sZmlsZQ%3D%3D?line=1'>2</a>\u001b[0m a \u001b[39m=\u001b[39m \u001b[39mfloat\u001b[39m(\u001b[39minput\u001b[39m(\u001b[39m'\u001b[39m\u001b[39mPlease Enter Numertor : \u001b[39m\u001b[39m'\u001b[39m))\n\u001b[0;32m      <a href='vscode-notebook-cell:/e%3A/Advance_Python/repository/Advance_python_session_6/Exception_handle.ipynb#X14sZmlsZQ%3D%3D?line=2'>3</a>\u001b[0m b \u001b[39m=\u001b[39m \u001b[39mfloat\u001b[39m(\u001b[39minput\u001b[39m(\u001b[39m'\u001b[39m\u001b[39mPlease Enter Denomenator : \u001b[39m\u001b[39m'\u001b[39m))\n\u001b[1;32m----> <a href='vscode-notebook-cell:/e%3A/Advance_Python/repository/Advance_python_session_6/Exception_handle.ipynb#X14sZmlsZQ%3D%3D?line=3'>4</a>\u001b[0m div \u001b[39m=\u001b[39m a\u001b[39m/\u001b[39;49mb\n\u001b[0;32m      <a href='vscode-notebook-cell:/e%3A/Advance_Python/repository/Advance_python_session_6/Exception_handle.ipynb#X14sZmlsZQ%3D%3D?line=4'>5</a>\u001b[0m \u001b[39mreturn\u001b[39;00m div\n",
      "\u001b[1;31mZeroDivisionError\u001b[0m: float division by zero"
     ]
    }
   ],
   "source": [
    "divide()"
   ]
  },
  {
   "cell_type": "code",
   "execution_count": null,
   "metadata": {},
   "outputs": [
    {
     "ename": "ZeroDivisionError",
     "evalue": "float division by zero",
     "output_type": "error",
     "traceback": [
      "\u001b[1;31m---------------------------------------------------------------------------\u001b[0m",
      "\u001b[1;31mZeroDivisionError\u001b[0m                         Traceback (most recent call last)",
      "\u001b[1;32me:\\Advance_Python\\repository\\Advance_python_session_6\\Exception_handle.ipynb Cell 13\u001b[0m line \u001b[0;36m1\n\u001b[1;32m----> <a href='vscode-notebook-cell:/e%3A/Advance_Python/repository/Advance_python_session_6/Exception_handle.ipynb#X15sZmlsZQ%3D%3D?line=0'>1</a>\u001b[0m divide()\n\u001b[0;32m      <a href='vscode-notebook-cell:/e%3A/Advance_Python/repository/Advance_python_session_6/Exception_handle.ipynb#X15sZmlsZQ%3D%3D?line=1'>2</a>\u001b[0m \u001b[39mprint\u001b[39m(\u001b[39m3\u001b[39m\u001b[39m+\u001b[39m\u001b[39m4\u001b[39m)\n",
      "\u001b[1;32me:\\Advance_Python\\repository\\Advance_python_session_6\\Exception_handle.ipynb Cell 13\u001b[0m line \u001b[0;36m4\n\u001b[0;32m      <a href='vscode-notebook-cell:/e%3A/Advance_Python/repository/Advance_python_session_6/Exception_handle.ipynb#X15sZmlsZQ%3D%3D?line=1'>2</a>\u001b[0m a \u001b[39m=\u001b[39m \u001b[39mfloat\u001b[39m(\u001b[39minput\u001b[39m(\u001b[39m'\u001b[39m\u001b[39mPlease Enter Numertor : \u001b[39m\u001b[39m'\u001b[39m))\n\u001b[0;32m      <a href='vscode-notebook-cell:/e%3A/Advance_Python/repository/Advance_python_session_6/Exception_handle.ipynb#X15sZmlsZQ%3D%3D?line=2'>3</a>\u001b[0m b \u001b[39m=\u001b[39m \u001b[39mfloat\u001b[39m(\u001b[39minput\u001b[39m(\u001b[39m'\u001b[39m\u001b[39mPlease Enter Denomenator : \u001b[39m\u001b[39m'\u001b[39m))\n\u001b[1;32m----> <a href='vscode-notebook-cell:/e%3A/Advance_Python/repository/Advance_python_session_6/Exception_handle.ipynb#X15sZmlsZQ%3D%3D?line=3'>4</a>\u001b[0m div \u001b[39m=\u001b[39m a\u001b[39m/\u001b[39;49mb\n\u001b[0;32m      <a href='vscode-notebook-cell:/e%3A/Advance_Python/repository/Advance_python_session_6/Exception_handle.ipynb#X15sZmlsZQ%3D%3D?line=4'>5</a>\u001b[0m \u001b[39mreturn\u001b[39;00m div\n",
      "\u001b[1;31mZeroDivisionError\u001b[0m: float division by zero"
     ]
    }
   ],
   "source": [
    "divide()\n",
    "print(3+4)"
   ]
  },
  {
   "cell_type": "markdown",
   "metadata": {},
   "source": [
    "![Alt text](image.png)"
   ]
  },
  {
   "cell_type": "code",
   "execution_count": null,
   "metadata": {},
   "outputs": [],
   "source": [
    "def divide_handled():\n",
    "    try:\n",
    "        a = float(input('Please Enter Numerator : '))\n",
    "        b = float(input('Please Enter Denomenator : '))\n",
    "        div = a/b\n",
    "        return div\n",
    "    except Exception as e:\n",
    "        print(f'Exception occured : {e}')"
   ]
  },
  {
   "cell_type": "code",
   "execution_count": 15,
   "metadata": {},
   "outputs": [
    {
     "data": {
      "text/plain": [
       "24.0"
      ]
     },
     "execution_count": 15,
     "metadata": {},
     "output_type": "execute_result"
    }
   ],
   "source": [
    "divide_handled()"
   ]
  },
  {
   "cell_type": "code",
   "execution_count": 16,
   "metadata": {},
   "outputs": [
    {
     "name": "stdout",
     "output_type": "stream",
     "text": [
      "Exception occured : float division by zero\n"
     ]
    }
   ],
   "source": [
    "divide_handled()"
   ]
  },
  {
   "cell_type": "code",
   "execution_count": 17,
   "metadata": {},
   "outputs": [
    {
     "name": "stdout",
     "output_type": "stream",
     "text": [
      "Exception occured : could not convert string to float: 'a'\n"
     ]
    }
   ],
   "source": [
    "divide_handled()"
   ]
  },
  {
   "cell_type": "code",
   "execution_count": 18,
   "metadata": {},
   "outputs": [],
   "source": [
    "def div_hand2():\n",
    "    try:\n",
    "        a = float(input('Enter Nr : '))\n",
    "        b = float(input('Enter dr : '))\n",
    "        div = a/b\n",
    "        return div\n",
    "    except ZeroDivisionError:\n",
    "        print('Cannot divide by 0, give any other number in dr.')\n",
    "    except ValueError:\n",
    "        print('Please do not enter alphabates instead of numbers')"
   ]
  },
  {
   "cell_type": "code",
   "execution_count": 19,
   "metadata": {},
   "outputs": [
    {
     "name": "stdout",
     "output_type": "stream",
     "text": [
      "Cannot divide by 0, give any other number in dr.\n"
     ]
    }
   ],
   "source": [
    "div_hand2()"
   ]
  },
  {
   "cell_type": "code",
   "execution_count": 20,
   "metadata": {},
   "outputs": [
    {
     "name": "stdout",
     "output_type": "stream",
     "text": [
      "Please do not enter alphabates instead of numbers\n"
     ]
    }
   ],
   "source": [
    "div_hand2()"
   ]
  },
  {
   "cell_type": "code",
   "execution_count": 21,
   "metadata": {},
   "outputs": [
    {
     "data": {
      "text/plain": [
       "3.0"
      ]
     },
     "execution_count": 21,
     "metadata": {},
     "output_type": "execute_result"
    }
   ],
   "source": [
    "div_hand2()"
   ]
  },
  {
   "cell_type": "markdown",
   "metadata": {},
   "source": [
    "### Handling Input exceptions"
   ]
  },
  {
   "cell_type": "code",
   "execution_count": 24,
   "metadata": {},
   "outputs": [
    {
     "name": "stdout",
     "output_type": "stream",
     "text": [
      "Invalid age 200 was\n"
     ]
    }
   ],
   "source": [
    "try:\n",
    "    age = int(input('Please enter your age : '))\n",
    "    if age<0 or age>100:\n",
    "        raise ValueError('Age should be between 0 and 100')\n",
    "    print(f'age of {age} years is VALID age')\n",
    "\n",
    "except:\n",
    "    print(f'Invalid age {age} was')"
   ]
  },
  {
   "cell_type": "markdown",
   "metadata": {},
   "source": [
    "### Try Except Finally Block"
   ]
  },
  {
   "cell_type": "code",
   "execution_count": 25,
   "metadata": {},
   "outputs": [],
   "source": [
    "from math import sqrt"
   ]
  },
  {
   "cell_type": "code",
   "execution_count": 26,
   "metadata": {},
   "outputs": [
    {
     "ename": "ValueError",
     "evalue": "math domain error",
     "output_type": "error",
     "traceback": [
      "\u001b[1;31m---------------------------------------------------------------------------\u001b[0m",
      "\u001b[1;31mValueError\u001b[0m                                Traceback (most recent call last)",
      "\u001b[1;32me:\\Advance_Python\\repository\\Advance_python_session_6\\Exception_handle.ipynb Cell 27\u001b[0m line \u001b[0;36m1\n\u001b[1;32m----> <a href='vscode-notebook-cell:/e%3A/Advance_Python/repository/Advance_python_session_6/Exception_handle.ipynb#X35sZmlsZQ%3D%3D?line=0'>1</a>\u001b[0m sqrt(\u001b[39m-\u001b[39;49m\u001b[39m3\u001b[39;49m)\n",
      "\u001b[1;31mValueError\u001b[0m: math domain error"
     ]
    }
   ],
   "source": [
    "sqrt(-3)"
   ]
  },
  {
   "cell_type": "code",
   "execution_count": 27,
   "metadata": {},
   "outputs": [
    {
     "data": {
      "text/plain": [
       "5.0"
      ]
     },
     "execution_count": 27,
     "metadata": {},
     "output_type": "execute_result"
    }
   ],
   "source": [
    "sqrt(25)"
   ]
  },
  {
   "cell_type": "code",
   "execution_count": 28,
   "metadata": {},
   "outputs": [
    {
     "data": {
      "text/plain": [
       "5.477225575051661"
      ]
     },
     "execution_count": 28,
     "metadata": {},
     "output_type": "execute_result"
    }
   ],
   "source": [
    "sqrt(30)"
   ]
  },
  {
   "cell_type": "code",
   "execution_count": 29,
   "metadata": {},
   "outputs": [],
   "source": [
    "def sqr_root(n):\n",
    "    try:\n",
    "        from math import sqrt\n",
    "        s = sqrt(n)\n",
    "        print(f'Square root of given numberr {n} is {s:.4f}')\n",
    "    except Exception as e:\n",
    "        print(f'Exception Occured : {e}')\n",
    "    finally:\n",
    "        print('This block is always executed finally')"
   ]
  },
  {
   "cell_type": "code",
   "execution_count": 30,
   "metadata": {},
   "outputs": [
    {
     "name": "stdout",
     "output_type": "stream",
     "text": [
      "Square root of given numberr 10 is 3.1623\n",
      "This block is always executed finally\n"
     ]
    }
   ],
   "source": [
    "sqr_root(10)"
   ]
  },
  {
   "cell_type": "code",
   "execution_count": 31,
   "metadata": {},
   "outputs": [
    {
     "name": "stdout",
     "output_type": "stream",
     "text": [
      "Exception Occured : math domain error\n",
      "This block is always executed finally\n"
     ]
    }
   ],
   "source": [
    "sqr_root(-16)"
   ]
  },
  {
   "cell_type": "markdown",
   "metadata": {},
   "source": [
    "### Qradratic equation solution\n",
    "ax^2 + bx + c = 0"
   ]
  },
  {
   "cell_type": "markdown",
   "metadata": {},
   "source": [
    "![Alt text](image-1.png)"
   ]
  },
  {
   "cell_type": "code",
   "execution_count": 32,
   "metadata": {},
   "outputs": [],
   "source": [
    "def quadratic_roots(a,b,c):\n",
    "    try:\n",
    "        from math import sqrt\n",
    "        d = b**2 - 4*a*c\n",
    "        x1 = (-b+sqrt(d))/(2*a)\n",
    "        x2 = (-b-sqrt(d))/(2*a)\n",
    "        print(f'Real roots of equation found : {x1:.4f} and {x2:.4f}')\n",
    "        return x1,x2\n",
    "    except Exception as e:\n",
    "        print(f'Exception Occured : {e}')\n",
    "    finally: \n",
    "        print('Thank you for using this function')\n",
    "        "
   ]
  },
  {
   "cell_type": "markdown",
   "metadata": {},
   "source": [
    "x^2-5x+6=0\n",
    "\n",
    "a=1,b=-5,c=6"
   ]
  },
  {
   "cell_type": "code",
   "execution_count": 33,
   "metadata": {},
   "outputs": [
    {
     "name": "stdout",
     "output_type": "stream",
     "text": [
      "Real roots of equation found : 3.0000 and 2.0000\n",
      "Thank you for using this function\n"
     ]
    },
    {
     "data": {
      "text/plain": [
       "(3.0, 2.0)"
      ]
     },
     "execution_count": 33,
     "metadata": {},
     "output_type": "execute_result"
    }
   ],
   "source": [
    "quadratic_roots(1,-5,6)"
   ]
  },
  {
   "cell_type": "markdown",
   "metadata": {},
   "source": [
    "x^2 + x + 1 = 0\n",
    "\n",
    "a = 1, b= 1, c = 1"
   ]
  },
  {
   "cell_type": "code",
   "execution_count": 34,
   "metadata": {},
   "outputs": [
    {
     "name": "stdout",
     "output_type": "stream",
     "text": [
      "Exception Occured : math domain error\n",
      "Thank you for using this function\n"
     ]
    }
   ],
   "source": [
    "quadratic_roots(1,1,1)"
   ]
  },
  {
   "cell_type": "code",
   "execution_count": 35,
   "metadata": {},
   "outputs": [
    {
     "data": {
      "text/plain": [
       "-3"
      ]
     },
     "execution_count": 35,
     "metadata": {},
     "output_type": "execute_result"
    }
   ],
   "source": [
    "1**1-4*1*1"
   ]
  },
  {
   "cell_type": "code",
   "execution_count": null,
   "metadata": {},
   "outputs": [],
   "source": []
  }
 ],
 "metadata": {
  "kernelspec": {
   "display_name": "venv",
   "language": "python",
   "name": "python3"
  },
  "language_info": {
   "codemirror_mode": {
    "name": "ipython",
    "version": 3
   },
   "file_extension": ".py",
   "mimetype": "text/x-python",
   "name": "python",
   "nbconvert_exporter": "python",
   "pygments_lexer": "ipython3",
   "version": "3.11.1"
  },
  "orig_nbformat": 4
 },
 "nbformat": 4,
 "nbformat_minor": 2
}
