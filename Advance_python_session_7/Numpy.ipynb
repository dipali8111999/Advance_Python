{
 "cells": [
  {
   "cell_type": "markdown",
   "metadata": {},
   "source": [
    "## Numpy arrays"
   ]
  },
  {
   "cell_type": "code",
   "execution_count": 2,
   "metadata": {},
   "outputs": [],
   "source": [
    "import numpy as np"
   ]
  },
  {
   "cell_type": "code",
   "execution_count": 3,
   "metadata": {},
   "outputs": [],
   "source": [
    "ar1 = np.array([12,13,14,15,16])"
   ]
  },
  {
   "cell_type": "code",
   "execution_count": 4,
   "metadata": {},
   "outputs": [
    {
     "data": {
      "text/plain": [
       "array([12, 13, 14, 15, 16])"
      ]
     },
     "execution_count": 4,
     "metadata": {},
     "output_type": "execute_result"
    }
   ],
   "source": [
    "ar1"
   ]
  },
  {
   "cell_type": "code",
   "execution_count": 5,
   "metadata": {},
   "outputs": [
    {
     "data": {
      "text/plain": [
       "numpy.ndarray"
      ]
     },
     "execution_count": 5,
     "metadata": {},
     "output_type": "execute_result"
    }
   ],
   "source": [
    "type(ar1)"
   ]
  },
  {
   "cell_type": "code",
   "execution_count": 6,
   "metadata": {},
   "outputs": [
    {
     "data": {
      "text/plain": [
       "(5,)"
      ]
     },
     "execution_count": 6,
     "metadata": {},
     "output_type": "execute_result"
    }
   ],
   "source": [
    "ar1.shape"
   ]
  },
  {
   "cell_type": "markdown",
   "metadata": {},
   "source": [
    "![Alt text](image.png)"
   ]
  },
  {
   "cell_type": "code",
   "execution_count": 7,
   "metadata": {},
   "outputs": [
    {
     "data": {
      "text/plain": [
       "1"
      ]
     },
     "execution_count": 7,
     "metadata": {},
     "output_type": "execute_result"
    }
   ],
   "source": [
    "np.ndim(ar1)"
   ]
  },
  {
   "cell_type": "code",
   "execution_count": 8,
   "metadata": {},
   "outputs": [
    {
     "data": {
      "text/plain": [
       "14"
      ]
     },
     "execution_count": 8,
     "metadata": {},
     "output_type": "execute_result"
    }
   ],
   "source": [
    "ar1[2]"
   ]
  },
  {
   "cell_type": "code",
   "execution_count": 9,
   "metadata": {},
   "outputs": [
    {
     "data": {
      "text/plain": [
       "16"
      ]
     },
     "execution_count": 9,
     "metadata": {},
     "output_type": "execute_result"
    }
   ],
   "source": [
    "ar1[-1]"
   ]
  },
  {
   "cell_type": "code",
   "execution_count": 10,
   "metadata": {},
   "outputs": [
    {
     "data": {
      "text/plain": [
       "array([12, 13, 14])"
      ]
     },
     "execution_count": 10,
     "metadata": {},
     "output_type": "execute_result"
    }
   ],
   "source": [
    "ar1[0:3]"
   ]
  },
  {
   "cell_type": "markdown",
   "metadata": {},
   "source": [
    "![Alt text](image-1.png)"
   ]
  },
  {
   "cell_type": "code",
   "execution_count": 11,
   "metadata": {},
   "outputs": [
    {
     "data": {
      "text/plain": [
       "array([[1, 2, 3],\n",
       "       [4, 5, 6]])"
      ]
     },
     "execution_count": 11,
     "metadata": {},
     "output_type": "execute_result"
    }
   ],
   "source": [
    "arr2 = np.array([[1,2,3],\n",
    "                 [4,5,6]])\n",
    "arr2"
   ]
  },
  {
   "cell_type": "code",
   "execution_count": 12,
   "metadata": {},
   "outputs": [
    {
     "data": {
      "text/plain": [
       "numpy.ndarray"
      ]
     },
     "execution_count": 12,
     "metadata": {},
     "output_type": "execute_result"
    }
   ],
   "source": [
    "type(arr2)"
   ]
  },
  {
   "cell_type": "code",
   "execution_count": 13,
   "metadata": {},
   "outputs": [
    {
     "data": {
      "text/plain": [
       "(2, 3)"
      ]
     },
     "execution_count": 13,
     "metadata": {},
     "output_type": "execute_result"
    }
   ],
   "source": [
    "arr2.shape"
   ]
  },
  {
   "cell_type": "code",
   "execution_count": 16,
   "metadata": {},
   "outputs": [
    {
     "data": {
      "text/plain": [
       "array([[1],\n",
       "       [2],\n",
       "       [3],\n",
       "       [4],\n",
       "       [5],\n",
       "       [6]])"
      ]
     },
     "execution_count": 16,
     "metadata": {},
     "output_type": "execute_result"
    }
   ],
   "source": [
    "arr2.reshape(6,1)"
   ]
  },
  {
   "cell_type": "code",
   "execution_count": 17,
   "metadata": {},
   "outputs": [
    {
     "data": {
      "text/plain": [
       "2"
      ]
     },
     "execution_count": 17,
     "metadata": {},
     "output_type": "execute_result"
    }
   ],
   "source": [
    "arr2.ndim"
   ]
  },
  {
   "cell_type": "code",
   "execution_count": 18,
   "metadata": {},
   "outputs": [
    {
     "data": {
      "text/plain": [
       "2"
      ]
     },
     "execution_count": 18,
     "metadata": {},
     "output_type": "execute_result"
    }
   ],
   "source": [
    "np.ndim(arr2)"
   ]
  },
  {
   "cell_type": "markdown",
   "metadata": {},
   "source": [
    "### 3 D array"
   ]
  },
  {
   "cell_type": "code",
   "execution_count": 19,
   "metadata": {},
   "outputs": [
    {
     "data": {
      "text/plain": [
       "array([[[1, 2, 3],\n",
       "        [4, 5, 6]],\n",
       "\n",
       "       [[7, 8, 9],\n",
       "        [9, 8, 7]]])"
      ]
     },
     "execution_count": 19,
     "metadata": {},
     "output_type": "execute_result"
    }
   ],
   "source": [
    "arr3 = np.array([[[1,2,3],\n",
    "                  [4,5,6]],\n",
    "                  \n",
    "                  [[7,8,9],\n",
    "                  [9,8,7]]])\n",
    "arr3"
   ]
  },
  {
   "cell_type": "code",
   "execution_count": 20,
   "metadata": {},
   "outputs": [
    {
     "data": {
      "text/plain": [
       "(2, 2, 3)"
      ]
     },
     "execution_count": 20,
     "metadata": {},
     "output_type": "execute_result"
    }
   ],
   "source": [
    "arr3.shape"
   ]
  },
  {
   "cell_type": "code",
   "execution_count": 21,
   "metadata": {},
   "outputs": [
    {
     "data": {
      "text/plain": [
       "numpy.ndarray"
      ]
     },
     "execution_count": 21,
     "metadata": {},
     "output_type": "execute_result"
    }
   ],
   "source": [
    "type(arr3)"
   ]
  },
  {
   "cell_type": "code",
   "execution_count": 22,
   "metadata": {},
   "outputs": [
    {
     "data": {
      "text/plain": [
       "3"
      ]
     },
     "execution_count": 22,
     "metadata": {},
     "output_type": "execute_result"
    }
   ],
   "source": [
    "np.ndim(arr3)"
   ]
  },
  {
   "cell_type": "code",
   "execution_count": 23,
   "metadata": {},
   "outputs": [
    {
     "data": {
      "text/plain": [
       "array([[1, 2, 3],\n",
       "       [4, 5, 6],\n",
       "       [7, 8, 9],\n",
       "       [9, 8, 7]])"
      ]
     },
     "execution_count": 23,
     "metadata": {},
     "output_type": "execute_result"
    }
   ],
   "source": [
    "arr3.reshape(4,3)"
   ]
  },
  {
   "cell_type": "markdown",
   "metadata": {},
   "source": [
    "### keep datatype consistent in Arrays"
   ]
  },
  {
   "cell_type": "code",
   "execution_count": 25,
   "metadata": {},
   "outputs": [],
   "source": [
    "arr4 = np.array(['a',14.5,12,11,'example',True])"
   ]
  },
  {
   "cell_type": "code",
   "execution_count": 26,
   "metadata": {},
   "outputs": [
    {
     "data": {
      "text/plain": [
       "array(['a', '14.5', '12', '11', 'example', 'True'], dtype='<U32')"
      ]
     },
     "execution_count": 26,
     "metadata": {},
     "output_type": "execute_result"
    }
   ],
   "source": [
    "arr4"
   ]
  },
  {
   "cell_type": "code",
   "execution_count": 28,
   "metadata": {},
   "outputs": [
    {
     "name": "stdout",
     "output_type": "stream",
     "text": [
      "element value : a, type of element :<class 'numpy.str_'>\n",
      "element value : 14.5, type of element :<class 'numpy.str_'>\n",
      "element value : 12, type of element :<class 'numpy.str_'>\n",
      "element value : 11, type of element :<class 'numpy.str_'>\n",
      "element value : example, type of element :<class 'numpy.str_'>\n",
      "element value : True, type of element :<class 'numpy.str_'>\n"
     ]
    }
   ],
   "source": [
    "for i in arr4:\n",
    "    print(f'element value : {i}, type of element :{type(i)}')"
   ]
  },
  {
   "cell_type": "markdown",
   "metadata": {},
   "source": [
    "### List vs array multiplying by 3"
   ]
  },
  {
   "cell_type": "code",
   "execution_count": 29,
   "metadata": {},
   "outputs": [
    {
     "data": {
      "text/plain": [
       "[3, 4, 5, 6]"
      ]
     },
     "execution_count": 29,
     "metadata": {},
     "output_type": "execute_result"
    }
   ],
   "source": [
    "a = [3,4,5,6]\n",
    "a"
   ]
  },
  {
   "cell_type": "code",
   "execution_count": 30,
   "metadata": {},
   "outputs": [
    {
     "data": {
      "text/plain": [
       "list"
      ]
     },
     "execution_count": 30,
     "metadata": {},
     "output_type": "execute_result"
    }
   ],
   "source": [
    "type(a)"
   ]
  },
  {
   "cell_type": "code",
   "execution_count": 32,
   "metadata": {},
   "outputs": [
    {
     "data": {
      "text/plain": [
       "[3, 4, 5, 6, 3, 4, 5, 6, 3, 4, 5, 6, 3, 4, 5, 6]"
      ]
     },
     "execution_count": 32,
     "metadata": {},
     "output_type": "execute_result"
    }
   ],
   "source": [
    "a*4"
   ]
  },
  {
   "cell_type": "code",
   "execution_count": 33,
   "metadata": {},
   "outputs": [],
   "source": [
    "b = []\n",
    "for i in a:\n",
    "    b.append(i*4)"
   ]
  },
  {
   "cell_type": "code",
   "execution_count": 34,
   "metadata": {},
   "outputs": [
    {
     "data": {
      "text/plain": [
       "[12, 16, 20, 24]"
      ]
     },
     "execution_count": 34,
     "metadata": {},
     "output_type": "execute_result"
    }
   ],
   "source": [
    "b"
   ]
  },
  {
   "cell_type": "code",
   "execution_count": 35,
   "metadata": {},
   "outputs": [
    {
     "data": {
      "text/plain": [
       "array([3, 4, 5, 6])"
      ]
     },
     "execution_count": 35,
     "metadata": {},
     "output_type": "execute_result"
    }
   ],
   "source": [
    "c = np.array([3,4,5,6])\n",
    "c"
   ]
  },
  {
   "cell_type": "code",
   "execution_count": 36,
   "metadata": {},
   "outputs": [
    {
     "data": {
      "text/plain": [
       "array([12, 16, 20, 24])"
      ]
     },
     "execution_count": 36,
     "metadata": {},
     "output_type": "execute_result"
    }
   ],
   "source": [
    "d = c*4\n",
    "d"
   ]
  },
  {
   "cell_type": "code",
   "execution_count": 37,
   "metadata": {},
   "outputs": [
    {
     "data": {
      "text/plain": [
       "array([3, 4, 5, 6])"
      ]
     },
     "execution_count": 37,
     "metadata": {},
     "output_type": "execute_result"
    }
   ],
   "source": [
    "c"
   ]
  },
  {
   "cell_type": "markdown",
   "metadata": {},
   "source": [
    "### Taking product of elements inside list vs array"
   ]
  },
  {
   "cell_type": "code",
   "execution_count": 39,
   "metadata": {},
   "outputs": [
    {
     "data": {
      "text/plain": [
       "list"
      ]
     },
     "execution_count": 39,
     "metadata": {},
     "output_type": "execute_result"
    }
   ],
   "source": [
    "e = [5,6,7,8]\n",
    "type(e)"
   ]
  },
  {
   "cell_type": "markdown",
   "metadata": {},
   "source": [
    "5x6x7x8"
   ]
  },
  {
   "cell_type": "code",
   "execution_count": 40,
   "metadata": {},
   "outputs": [
    {
     "name": "stdout",
     "output_type": "stream",
     "text": [
      "product of element inside list [5, 6, 7, 8] is 1680\n"
     ]
    }
   ],
   "source": [
    "p = 1\n",
    "for i in e:\n",
    "    p = p*i\n",
    "print(f'product of element inside list {e} is {p}')"
   ]
  },
  {
   "cell_type": "code",
   "execution_count": 41,
   "metadata": {},
   "outputs": [
    {
     "data": {
      "text/plain": [
       "array([5, 6, 7, 8])"
      ]
     },
     "execution_count": 41,
     "metadata": {},
     "output_type": "execute_result"
    }
   ],
   "source": [
    "g = np.array([5,6,7,8])\n",
    "g"
   ]
  },
  {
   "cell_type": "code",
   "execution_count": 42,
   "metadata": {},
   "outputs": [
    {
     "data": {
      "text/plain": [
       "1680"
      ]
     },
     "execution_count": 42,
     "metadata": {},
     "output_type": "execute_result"
    }
   ],
   "source": [
    "h = np.prod(g)\n",
    "h"
   ]
  },
  {
   "cell_type": "code",
   "execution_count": 43,
   "metadata": {},
   "outputs": [
    {
     "data": {
      "text/plain": [
       "26"
      ]
     },
     "execution_count": 43,
     "metadata": {},
     "output_type": "execute_result"
    }
   ],
   "source": [
    "j = np.sum(g)\n",
    "j"
   ]
  },
  {
   "cell_type": "markdown",
   "metadata": {},
   "source": [
    "### Numpy aggregation operations"
   ]
  },
  {
   "cell_type": "markdown",
   "metadata": {},
   "source": [
    "![Alt text](image-2.png)"
   ]
  },
  {
   "cell_type": "code",
   "execution_count": 44,
   "metadata": {},
   "outputs": [
    {
     "data": {
      "text/plain": [
       "array([3, 4, 5, 6])"
      ]
     },
     "execution_count": 44,
     "metadata": {},
     "output_type": "execute_result"
    }
   ],
   "source": [
    "A = np.array([3,4,5,6])\n",
    "A"
   ]
  },
  {
   "cell_type": "code",
   "execution_count": 45,
   "metadata": {},
   "outputs": [
    {
     "data": {
      "text/plain": [
       "18"
      ]
     },
     "execution_count": 45,
     "metadata": {},
     "output_type": "execute_result"
    }
   ],
   "source": [
    "s = np.sum(A)\n",
    "s"
   ]
  },
  {
   "cell_type": "code",
   "execution_count": 46,
   "metadata": {},
   "outputs": [
    {
     "data": {
      "text/plain": [
       "360"
      ]
     },
     "execution_count": 46,
     "metadata": {},
     "output_type": "execute_result"
    }
   ],
   "source": [
    "p = np.prod(A)\n",
    "p"
   ]
  },
  {
   "cell_type": "code",
   "execution_count": 48,
   "metadata": {},
   "outputs": [
    {
     "data": {
      "text/plain": [
       "6"
      ]
     },
     "execution_count": 48,
     "metadata": {},
     "output_type": "execute_result"
    }
   ],
   "source": [
    "mx = np.max(A)\n",
    "mx"
   ]
  },
  {
   "cell_type": "code",
   "execution_count": 49,
   "metadata": {},
   "outputs": [
    {
     "data": {
      "text/plain": [
       "3"
      ]
     },
     "execution_count": 49,
     "metadata": {},
     "output_type": "execute_result"
    }
   ],
   "source": [
    "mn = np.min(A)\n",
    "mn"
   ]
  },
  {
   "cell_type": "code",
   "execution_count": 50,
   "metadata": {},
   "outputs": [
    {
     "data": {
      "text/plain": [
       "1.118033988749895"
      ]
     },
     "execution_count": 50,
     "metadata": {},
     "output_type": "execute_result"
    }
   ],
   "source": [
    "std = np.std(A)\n",
    "std"
   ]
  },
  {
   "cell_type": "code",
   "execution_count": 51,
   "metadata": {},
   "outputs": [
    {
     "data": {
      "text/plain": [
       "4.5"
      ]
     },
     "execution_count": 51,
     "metadata": {},
     "output_type": "execute_result"
    }
   ],
   "source": [
    "avg = np.mean(A)\n",
    "avg"
   ]
  },
  {
   "cell_type": "markdown",
   "metadata": {},
   "source": [
    "### Generating data through numpy\n",
    "range(start,stop,step)"
   ]
  },
  {
   "cell_type": "code",
   "execution_count": 52,
   "metadata": {},
   "outputs": [
    {
     "data": {
      "text/plain": [
       "range(1, 10, 2)"
      ]
     },
     "execution_count": 52,
     "metadata": {},
     "output_type": "execute_result"
    }
   ],
   "source": [
    "range(1,10,2)"
   ]
  },
  {
   "cell_type": "code",
   "execution_count": 53,
   "metadata": {},
   "outputs": [
    {
     "data": {
      "text/plain": [
       "[1, 3, 5, 7, 9]"
      ]
     },
     "execution_count": 53,
     "metadata": {},
     "output_type": "execute_result"
    }
   ],
   "source": [
    "list(range(1,10,2))"
   ]
  },
  {
   "cell_type": "code",
   "execution_count": 54,
   "metadata": {},
   "outputs": [
    {
     "ename": "TypeError",
     "evalue": "'float' object cannot be interpreted as an integer",
     "output_type": "error",
     "traceback": [
      "\u001b[1;31m---------------------------------------------------------------------------\u001b[0m",
      "\u001b[1;31mTypeError\u001b[0m                                 Traceback (most recent call last)",
      "\u001b[1;32me:\\Advance_Python\\repository\\Advance_python_session_7\\Numpy.ipynb Cell 57\u001b[0m line \u001b[0;36m1\n\u001b[1;32m----> <a href='vscode-notebook-cell:/e%3A/Advance_Python/repository/Advance_python_session_7/Numpy.ipynb#Y163sZmlsZQ%3D%3D?line=0'>1</a>\u001b[0m \u001b[39mlist\u001b[39m(\u001b[39mrange\u001b[39;49m(\u001b[39m1.2\u001b[39;49m,\u001b[39m4.5\u001b[39;49m,\u001b[39m1\u001b[39;49m))\n",
      "\u001b[1;31mTypeError\u001b[0m: 'float' object cannot be interpreted as an integer"
     ]
    }
   ],
   "source": [
    "list(range(1.2,4.5,1))"
   ]
  },
  {
   "cell_type": "markdown",
   "metadata": {},
   "source": [
    "### np.arange"
   ]
  },
  {
   "cell_type": "code",
   "execution_count": 55,
   "metadata": {},
   "outputs": [
    {
     "data": {
      "text/plain": [
       "array([1, 3, 5, 7, 9])"
      ]
     },
     "execution_count": 55,
     "metadata": {},
     "output_type": "execute_result"
    }
   ],
   "source": [
    "B = np.arange(1,10,2)\n",
    "B"
   ]
  },
  {
   "cell_type": "code",
   "execution_count": 57,
   "metadata": {},
   "outputs": [
    {
     "data": {
      "text/plain": [
       "array([1.5, 2. , 2.5, 3. , 3.5, 4. ])"
      ]
     },
     "execution_count": 57,
     "metadata": {},
     "output_type": "execute_result"
    }
   ],
   "source": [
    "C = np.arange(1.5,4.5,0.5)\n",
    "C"
   ]
  },
  {
   "cell_type": "code",
   "execution_count": 58,
   "metadata": {},
   "outputs": [
    {
     "data": {
      "text/plain": [
       "array([ 0.1,  0.2,  0.3,  0.4,  0.5,  0.6,  0.7,  0.8,  0.9,  1. ,  1.1,\n",
       "        1.2,  1.3,  1.4,  1.5,  1.6,  1.7,  1.8,  1.9,  2. ,  2.1,  2.2,\n",
       "        2.3,  2.4,  2.5,  2.6,  2.7,  2.8,  2.9,  3. ,  3.1,  3.2,  3.3,\n",
       "        3.4,  3.5,  3.6,  3.7,  3.8,  3.9,  4. ,  4.1,  4.2,  4.3,  4.4,\n",
       "        4.5,  4.6,  4.7,  4.8,  4.9,  5. ,  5.1,  5.2,  5.3,  5.4,  5.5,\n",
       "        5.6,  5.7,  5.8,  5.9,  6. ,  6.1,  6.2,  6.3,  6.4,  6.5,  6.6,\n",
       "        6.7,  6.8,  6.9,  7. ,  7.1,  7.2,  7.3,  7.4,  7.5,  7.6,  7.7,\n",
       "        7.8,  7.9,  8. ,  8.1,  8.2,  8.3,  8.4,  8.5,  8.6,  8.7,  8.8,\n",
       "        8.9,  9. ,  9.1,  9.2,  9.3,  9.4,  9.5,  9.6,  9.7,  9.8,  9.9,\n",
       "       10. , 10.1, 10.2, 10.3, 10.4, 10.5, 10.6, 10.7, 10.8, 10.9, 11. ,\n",
       "       11.1, 11.2, 11.3, 11.4, 11.5, 11.6, 11.7, 11.8, 11.9, 12. , 12.1,\n",
       "       12.2, 12.3, 12.4, 12.5, 12.6, 12.7, 12.8, 12.9, 13. , 13.1, 13.2,\n",
       "       13.3, 13.4, 13.5, 13.6, 13.7, 13.8, 13.9, 14. , 14.1, 14.2, 14.3,\n",
       "       14.4, 14.5, 14.6, 14.7, 14.8, 14.9, 15. , 15.1, 15.2, 15.3, 15.4,\n",
       "       15.5, 15.6, 15.7, 15.8, 15.9, 16. , 16.1, 16.2, 16.3, 16.4, 16.5,\n",
       "       16.6, 16.7, 16.8, 16.9, 17. , 17.1, 17.2, 17.3, 17.4, 17.5, 17.6,\n",
       "       17.7, 17.8, 17.9, 18. , 18.1, 18.2, 18.3, 18.4, 18.5, 18.6, 18.7,\n",
       "       18.8, 18.9, 19. , 19.1, 19.2, 19.3, 19.4, 19.5, 19.6, 19.7, 19.8,\n",
       "       19.9, 20. , 20.1, 20.2, 20.3, 20.4, 20.5, 20.6, 20.7, 20.8, 20.9,\n",
       "       21. , 21.1, 21.2, 21.3, 21.4, 21.5, 21.6, 21.7, 21.8, 21.9, 22. ,\n",
       "       22.1, 22.2, 22.3, 22.4, 22.5, 22.6, 22.7, 22.8, 22.9, 23. , 23.1,\n",
       "       23.2, 23.3, 23.4, 23.5, 23.6, 23.7, 23.8, 23.9, 24. , 24.1, 24.2,\n",
       "       24.3, 24.4, 24.5, 24.6, 24.7, 24.8, 24.9, 25. , 25.1, 25.2, 25.3,\n",
       "       25.4, 25.5, 25.6, 25.7, 25.8, 25.9, 26. , 26.1, 26.2, 26.3, 26.4,\n",
       "       26.5, 26.6, 26.7, 26.8, 26.9, 27. , 27.1, 27.2, 27.3, 27.4, 27.5,\n",
       "       27.6, 27.7, 27.8, 27.9, 28. , 28.1, 28.2, 28.3, 28.4, 28.5, 28.6,\n",
       "       28.7, 28.8, 28.9, 29. , 29.1, 29.2, 29.3, 29.4, 29.5, 29.6, 29.7,\n",
       "       29.8, 29.9, 30. , 30.1, 30.2, 30.3, 30.4, 30.5, 30.6, 30.7, 30.8,\n",
       "       30.9, 31. , 31.1, 31.2, 31.3, 31.4, 31.5, 31.6, 31.7, 31.8, 31.9,\n",
       "       32. , 32.1, 32.2, 32.3, 32.4, 32.5, 32.6, 32.7, 32.8, 32.9, 33. ,\n",
       "       33.1, 33.2, 33.3, 33.4, 33.5, 33.6, 33.7, 33.8, 33.9, 34. , 34.1,\n",
       "       34.2, 34.3, 34.4, 34.5, 34.6, 34.7, 34.8, 34.9, 35. , 35.1, 35.2,\n",
       "       35.3, 35.4, 35.5, 35.6, 35.7, 35.8, 35.9, 36. , 36.1, 36.2, 36.3,\n",
       "       36.4, 36.5, 36.6, 36.7, 36.8, 36.9, 37. , 37.1, 37.2, 37.3, 37.4,\n",
       "       37.5, 37.6, 37.7, 37.8, 37.9, 38. , 38.1, 38.2, 38.3, 38.4, 38.5,\n",
       "       38.6, 38.7, 38.8, 38.9, 39. , 39.1, 39.2, 39.3, 39.4, 39.5, 39.6,\n",
       "       39.7, 39.8, 39.9, 40. , 40.1, 40.2, 40.3, 40.4, 40.5, 40.6, 40.7,\n",
       "       40.8, 40.9, 41. , 41.1, 41.2, 41.3, 41.4, 41.5, 41.6, 41.7, 41.8,\n",
       "       41.9, 42. , 42.1, 42.2, 42.3, 42.4, 42.5, 42.6, 42.7, 42.8, 42.9,\n",
       "       43. , 43.1, 43.2, 43.3, 43.4, 43.5, 43.6, 43.7, 43.8, 43.9, 44. ,\n",
       "       44.1, 44.2, 44.3, 44.4, 44.5, 44.6, 44.7, 44.8, 44.9, 45. , 45.1,\n",
       "       45.2, 45.3, 45.4, 45.5, 45.6, 45.7, 45.8, 45.9, 46. , 46.1, 46.2,\n",
       "       46.3, 46.4, 46.5, 46.6, 46.7, 46.8, 46.9, 47. , 47.1, 47.2, 47.3,\n",
       "       47.4, 47.5, 47.6, 47.7, 47.8, 47.9, 48. , 48.1, 48.2, 48.3, 48.4,\n",
       "       48.5, 48.6, 48.7, 48.8, 48.9, 49. , 49.1, 49.2, 49.3, 49.4, 49.5,\n",
       "       49.6, 49.7, 49.8, 49.9, 50. , 50.1, 50.2, 50.3, 50.4, 50.5, 50.6,\n",
       "       50.7, 50.8, 50.9, 51. , 51.1, 51.2, 51.3, 51.4, 51.5, 51.6, 51.7,\n",
       "       51.8, 51.9, 52. , 52.1, 52.2, 52.3, 52.4, 52.5, 52.6, 52.7, 52.8,\n",
       "       52.9, 53. , 53.1, 53.2, 53.3, 53.4, 53.5, 53.6, 53.7, 53.8, 53.9,\n",
       "       54. , 54.1, 54.2, 54.3, 54.4, 54.5, 54.6, 54.7, 54.8, 54.9, 55. ,\n",
       "       55.1, 55.2, 55.3, 55.4, 55.5, 55.6, 55.7, 55.8, 55.9, 56. , 56.1,\n",
       "       56.2, 56.3, 56.4, 56.5, 56.6, 56.7, 56.8, 56.9, 57. , 57.1, 57.2,\n",
       "       57.3, 57.4, 57.5, 57.6, 57.7, 57.8, 57.9, 58. , 58.1, 58.2, 58.3,\n",
       "       58.4, 58.5, 58.6, 58.7, 58.8, 58.9, 59. , 59.1, 59.2, 59.3, 59.4,\n",
       "       59.5, 59.6, 59.7, 59.8, 59.9, 60. , 60.1, 60.2, 60.3, 60.4, 60.5,\n",
       "       60.6, 60.7, 60.8, 60.9, 61. , 61.1, 61.2, 61.3, 61.4, 61.5, 61.6,\n",
       "       61.7, 61.8, 61.9, 62. , 62.1, 62.2, 62.3, 62.4, 62.5, 62.6, 62.7,\n",
       "       62.8, 62.9, 63. , 63.1, 63.2, 63.3, 63.4, 63.5, 63.6, 63.7, 63.8,\n",
       "       63.9, 64. , 64.1, 64.2, 64.3, 64.4, 64.5, 64.6, 64.7, 64.8, 64.9,\n",
       "       65. , 65.1, 65.2, 65.3, 65.4, 65.5, 65.6, 65.7, 65.8, 65.9, 66. ,\n",
       "       66.1, 66.2, 66.3, 66.4, 66.5, 66.6, 66.7, 66.8, 66.9, 67. , 67.1,\n",
       "       67.2, 67.3, 67.4, 67.5, 67.6, 67.7, 67.8, 67.9, 68. , 68.1, 68.2,\n",
       "       68.3, 68.4, 68.5, 68.6, 68.7, 68.8, 68.9, 69. , 69.1, 69.2, 69.3,\n",
       "       69.4, 69.5, 69.6, 69.7, 69.8, 69.9, 70. , 70.1, 70.2, 70.3, 70.4,\n",
       "       70.5, 70.6, 70.7, 70.8, 70.9, 71. , 71.1, 71.2, 71.3, 71.4, 71.5,\n",
       "       71.6, 71.7, 71.8, 71.9, 72. , 72.1, 72.2, 72.3, 72.4, 72.5, 72.6,\n",
       "       72.7, 72.8, 72.9, 73. , 73.1, 73.2, 73.3, 73.4, 73.5, 73.6, 73.7,\n",
       "       73.8, 73.9, 74. , 74.1, 74.2, 74.3, 74.4, 74.5, 74.6, 74.7, 74.8,\n",
       "       74.9, 75. , 75.1, 75.2, 75.3, 75.4, 75.5, 75.6, 75.7, 75.8, 75.9,\n",
       "       76. , 76.1, 76.2, 76.3, 76.4, 76.5, 76.6, 76.7, 76.8, 76.9, 77. ,\n",
       "       77.1, 77.2, 77.3, 77.4, 77.5, 77.6, 77.7, 77.8, 77.9, 78. , 78.1,\n",
       "       78.2, 78.3, 78.4, 78.5, 78.6, 78.7, 78.8, 78.9, 79. , 79.1, 79.2,\n",
       "       79.3, 79.4, 79.5, 79.6, 79.7, 79.8, 79.9, 80. , 80.1, 80.2, 80.3,\n",
       "       80.4, 80.5, 80.6, 80.7, 80.8, 80.9, 81. , 81.1, 81.2, 81.3, 81.4,\n",
       "       81.5, 81.6, 81.7, 81.8, 81.9, 82. , 82.1, 82.2, 82.3, 82.4, 82.5,\n",
       "       82.6, 82.7, 82.8, 82.9, 83. , 83.1, 83.2, 83.3, 83.4, 83.5, 83.6,\n",
       "       83.7, 83.8, 83.9, 84. , 84.1, 84.2, 84.3, 84.4, 84.5, 84.6, 84.7,\n",
       "       84.8, 84.9, 85. , 85.1, 85.2, 85.3, 85.4, 85.5, 85.6, 85.7, 85.8,\n",
       "       85.9, 86. , 86.1, 86.2, 86.3, 86.4, 86.5, 86.6, 86.7, 86.8, 86.9,\n",
       "       87. , 87.1, 87.2, 87.3, 87.4, 87.5, 87.6, 87.7, 87.8, 87.9, 88. ,\n",
       "       88.1, 88.2, 88.3, 88.4, 88.5, 88.6, 88.7, 88.8, 88.9, 89. , 89.1,\n",
       "       89.2, 89.3, 89.4, 89.5, 89.6, 89.7, 89.8, 89.9, 90. , 90.1, 90.2,\n",
       "       90.3, 90.4, 90.5, 90.6, 90.7, 90.8, 90.9, 91. , 91.1, 91.2, 91.3,\n",
       "       91.4, 91.5, 91.6, 91.7, 91.8, 91.9, 92. , 92.1, 92.2, 92.3, 92.4,\n",
       "       92.5, 92.6, 92.7, 92.8, 92.9, 93. , 93.1, 93.2, 93.3, 93.4, 93.5,\n",
       "       93.6, 93.7, 93.8, 93.9, 94. , 94.1, 94.2, 94.3, 94.4, 94.5, 94.6,\n",
       "       94.7, 94.8, 94.9, 95. , 95.1, 95.2, 95.3, 95.4, 95.5, 95.6, 95.7,\n",
       "       95.8, 95.9, 96. , 96.1, 96.2, 96.3, 96.4, 96.5, 96.6, 96.7, 96.8,\n",
       "       96.9, 97. , 97.1, 97.2, 97.3, 97.4, 97.5, 97.6, 97.7, 97.8, 97.9,\n",
       "       98. , 98.1, 98.2, 98.3, 98.4, 98.5, 98.6, 98.7, 98.8, 98.9, 99. ,\n",
       "       99.1, 99.2, 99.3, 99.4, 99.5, 99.6, 99.7, 99.8, 99.9])"
      ]
     },
     "execution_count": 58,
     "metadata": {},
     "output_type": "execute_result"
    }
   ],
   "source": [
    "alphas = np.arange(0.1,100,0.1)\n",
    "alphas"
   ]
  },
  {
   "cell_type": "markdown",
   "metadata": {},
   "source": [
    "![Alt text](image-3.png)"
   ]
  },
  {
   "cell_type": "code",
   "execution_count": 59,
   "metadata": {},
   "outputs": [
    {
     "data": {
      "text/plain": [
       "array([-1.5, -1.1, -0.7, -0.3,  0.1,  0.5,  0.9,  1.3,  1.7,  2.1,  2.5])"
      ]
     },
     "execution_count": 59,
     "metadata": {},
     "output_type": "execute_result"
    }
   ],
   "source": [
    "D = np.linspace(-1.5,2.5,11)\n",
    "D"
   ]
  },
  {
   "cell_type": "markdown",
   "metadata": {},
   "source": [
    "### Generating random numbers in numpy"
   ]
  },
  {
   "cell_type": "markdown",
   "metadata": {},
   "source": [
    "![Alt text](image-4.png)"
   ]
  },
  {
   "cell_type": "markdown",
   "metadata": {},
   "source": [
    "### Generating numbers bet 0 and 1 randomly"
   ]
  },
  {
   "cell_type": "code",
   "execution_count": 60,
   "metadata": {},
   "outputs": [
    {
     "data": {
      "text/plain": [
       "array([0.0524035 , 0.70292867, 0.33500613, 0.0718492 , 0.80948578,\n",
       "       0.1718285 , 0.70889716, 0.97105226, 0.97284074, 0.24325594,\n",
       "       0.73090891, 0.22428334, 0.7541839 , 0.18818959, 0.02046701,\n",
       "       0.71519216, 0.92759507, 0.76421142, 0.92516357, 0.07871434])"
      ]
     },
     "execution_count": 60,
     "metadata": {},
     "output_type": "execute_result"
    }
   ],
   "source": [
    "n = np.random.random(20)\n",
    "n"
   ]
  },
  {
   "cell_type": "code",
   "execution_count": 62,
   "metadata": {},
   "outputs": [
    {
     "data": {
      "text/plain": [
       "array([0.15416284, 0.7400497 , 0.26331502, 0.53373939, 0.01457496,\n",
       "       0.91874701, 0.90071485, 0.03342143, 0.95694934, 0.13720932,\n",
       "       0.28382835, 0.60608318, 0.94422514, 0.85273554, 0.00225923,\n",
       "       0.52122603, 0.55203763, 0.48537741, 0.76813415, 0.16071675,\n",
       "       0.76456045, 0.0208098 , 0.13521018, 0.11627302, 0.30989758,\n",
       "       0.67145265, 0.47122978, 0.8161683 , 0.28958678, 0.73312598,\n",
       "       0.70262236, 0.32756948, 0.33464753, 0.97805808, 0.62458211,\n",
       "       0.95031352, 0.76747565, 0.82500925, 0.4066403 , 0.45130841,\n",
       "       0.40063163, 0.99513816, 0.17756418, 0.9625969 , 0.41925027,\n",
       "       0.42405245, 0.46314887, 0.37372315, 0.4655081 , 0.03516826])"
      ]
     },
     "execution_count": 62,
     "metadata": {},
     "output_type": "execute_result"
    }
   ],
   "source": [
    "np.random.seed(12)\n",
    "k = np.random.random(50)\n",
    "k"
   ]
  },
  {
   "cell_type": "markdown",
   "metadata": {},
   "source": [
    "### Generate random numbers for thrown dice\n",
    "np.random.randint(start,stop+1,size)"
   ]
  },
  {
   "cell_type": "code",
   "execution_count": 65,
   "metadata": {},
   "outputs": [
    {
     "data": {
      "text/plain": [
       "array([3, 4, 1, 6, 2, 3, 3, 1, 1, 3, 2, 6, 6, 3, 3, 5, 6, 4, 5, 5, 4, 2,\n",
       "       4, 2, 6, 6, 5, 6, 1, 3, 1, 6, 2, 6, 3, 3, 3, 6, 4, 4, 3, 5, 4, 6,\n",
       "       4, 3, 3, 2, 6, 2])"
      ]
     },
     "execution_count": 65,
     "metadata": {},
     "output_type": "execute_result"
    }
   ],
   "source": [
    "np.random.seed(18)\n",
    "dice = np.random.randint(1,7,50)\n",
    "dice"
   ]
  },
  {
   "cell_type": "markdown",
   "metadata": {},
   "source": [
    "### Generating normal distribution\n",
    "np.random.normal(mean,std_dev,size)"
   ]
  },
  {
   "cell_type": "code",
   "execution_count": 66,
   "metadata": {},
   "outputs": [
    {
     "data": {
      "text/plain": [
       "array([5.83009688, 4.90521178, 5.15492515, ..., 5.5204246 , 5.01314924,\n",
       "       5.14169206])"
      ]
     },
     "execution_count": 66,
     "metadata": {},
     "output_type": "execute_result"
    }
   ],
   "source": [
    "np.random.seed(64)\n",
    "height = np.random.normal(5.5,0.3,size=10000)\n",
    "height"
   ]
  },
  {
   "cell_type": "code",
   "execution_count": 67,
   "metadata": {},
   "outputs": [],
   "source": [
    "from warnings import filterwarnings \n",
    "filterwarnings('ignore')"
   ]
  },
  {
   "cell_type": "code",
   "execution_count": 68,
   "metadata": {},
   "outputs": [
    {
     "data": {
      "text/plain": [
       "<Axes: ylabel='Count'>"
      ]
     },
     "execution_count": 68,
     "metadata": {},
     "output_type": "execute_result"
    },
    {
     "data": {
      "image/png": "[encoded data removed]",
      "text/plain": [
       "<Figure size 640x480 with 1 Axes>"
      ]
     },
     "metadata": {},
     "output_type": "display_data"
    }
   ],
   "source": [
    "import seaborn as sns\n",
    "sns.histplot(data = height, kde=True)"
   ]
  },
  {
   "cell_type": "code",
   "execution_count": 70,
   "metadata": {},
   "outputs": [
    {
     "data": {
      "text/plain": [
       "5.500415720219734"
      ]
     },
     "execution_count": 70,
     "metadata": {},
     "output_type": "execute_result"
    }
   ],
   "source": [
    "np.mean(height)"
   ]
  },
  {
   "cell_type": "code",
   "execution_count": 71,
   "metadata": {},
   "outputs": [
    {
     "data": {
      "text/plain": [
       "0.3033490330220137"
      ]
     },
     "execution_count": 71,
     "metadata": {},
     "output_type": "execute_result"
    }
   ],
   "source": [
    "np.std(height)"
   ]
  },
  {
   "cell_type": "markdown",
   "metadata": {},
   "source": [
    "### common functions in numpy library"
   ]
  },
  {
   "cell_type": "markdown",
   "metadata": {},
   "source": [
    "![Alt text](image-5.png)"
   ]
  },
  {
   "cell_type": "code",
   "execution_count": 72,
   "metadata": {},
   "outputs": [
    {
     "data": {
      "text/plain": [
       "array([4, 5, 6, 7, 8, 9])"
      ]
     },
     "execution_count": 72,
     "metadata": {},
     "output_type": "execute_result"
    }
   ],
   "source": [
    "G = np.array([4,5,6,7,8,9])\n",
    "G"
   ]
  },
  {
   "cell_type": "code",
   "execution_count": 73,
   "metadata": {},
   "outputs": [
    {
     "data": {
      "text/plain": [
       "array([2.        , 2.23606798, 2.44948974, 2.64575131, 2.82842712,\n",
       "       3.        ])"
      ]
     },
     "execution_count": 73,
     "metadata": {},
     "output_type": "execute_result"
    }
   ],
   "source": [
    "np.sqrt(G)"
   ]
  },
  {
   "cell_type": "code",
   "execution_count": 74,
   "metadata": {},
   "outputs": [
    {
     "data": {
      "text/plain": [
       "array([0.60205999, 0.69897   , 0.77815125, 0.84509804, 0.90308999,\n",
       "       0.95424251])"
      ]
     },
     "execution_count": 74,
     "metadata": {},
     "output_type": "execute_result"
    }
   ],
   "source": [
    "np.log10(G)"
   ]
  },
  {
   "cell_type": "code",
   "execution_count": 75,
   "metadata": {},
   "outputs": [
    {
     "data": {
      "text/plain": [
       "array([  54.59815003,  148.4131591 ,  403.42879349, 1096.63315843,\n",
       "       2980.95798704, 8103.08392758])"
      ]
     },
     "execution_count": 75,
     "metadata": {},
     "output_type": "execute_result"
    }
   ],
   "source": [
    "np.exp(G)"
   ]
  },
  {
   "cell_type": "code",
   "execution_count": 76,
   "metadata": {},
   "outputs": [
    {
     "data": {
      "text/plain": [
       "array([-0.7568025 , -0.95892427, -0.2794155 ,  0.6569866 ,  0.98935825,\n",
       "        0.41211849])"
      ]
     },
     "execution_count": 76,
     "metadata": {},
     "output_type": "execute_result"
    }
   ],
   "source": [
    "np.sin(G)"
   ]
  },
  {
   "cell_type": "code",
   "execution_count": 77,
   "metadata": {},
   "outputs": [
    {
     "data": {
      "text/plain": [
       "array([-0.65364362,  0.28366219,  0.96017029,  0.75390225, -0.14550003,\n",
       "       -0.91113026])"
      ]
     },
     "execution_count": 77,
     "metadata": {},
     "output_type": "execute_result"
    }
   ],
   "source": [
    "np.cos(G)"
   ]
  },
  {
   "cell_type": "code",
   "execution_count": 78,
   "metadata": {},
   "outputs": [
    {
     "data": {
      "text/plain": [
       "array([ 1.15782128, -3.38051501, -0.29100619,  0.87144798, -6.79971146,\n",
       "       -0.45231566])"
      ]
     },
     "execution_count": 78,
     "metadata": {},
     "output_type": "execute_result"
    }
   ],
   "source": [
    "np.tan(G)"
   ]
  },
  {
   "cell_type": "code",
   "execution_count": 79,
   "metadata": {},
   "outputs": [
    {
     "data": {
      "text/plain": [
       "0.7853981633974483"
      ]
     },
     "execution_count": 79,
     "metadata": {},
     "output_type": "execute_result"
    }
   ],
   "source": [
    "from math import pi\n",
    "d_deg = 45\n",
    "d_rad = d_deg*(pi/180)\n",
    "d_rad"
   ]
  },
  {
   "cell_type": "code",
   "execution_count": 80,
   "metadata": {},
   "outputs": [
    {
     "data": {
      "text/plain": [
       "0.7071067811865476"
      ]
     },
     "execution_count": 80,
     "metadata": {},
     "output_type": "execute_result"
    }
   ],
   "source": [
    "np.sin(d_rad)"
   ]
  },
  {
   "cell_type": "code",
   "execution_count": 81,
   "metadata": {},
   "outputs": [
    {
     "data": {
      "text/plain": [
       "0.7071067811865476"
      ]
     },
     "execution_count": 81,
     "metadata": {},
     "output_type": "execute_result"
    }
   ],
   "source": [
    "np.cos(d_rad)"
   ]
  },
  {
   "cell_type": "code",
   "execution_count": 82,
   "metadata": {},
   "outputs": [
    {
     "data": {
      "text/plain": [
       "0.9999999999999999"
      ]
     },
     "execution_count": 82,
     "metadata": {},
     "output_type": "execute_result"
    }
   ],
   "source": [
    "np.tan(d_rad)"
   ]
  },
  {
   "cell_type": "markdown",
   "metadata": {},
   "source": [
    "### Plot the curve x*sin(x) + x^2"
   ]
  },
  {
   "cell_type": "code",
   "execution_count": 83,
   "metadata": {},
   "outputs": [
    {
     "data": {
      "text/plain": [
       "array([-12.56637061, -12.46637061, -12.36637061, -12.26637061,\n",
       "       -12.16637061, -12.06637061, -11.96637061, -11.86637061,\n",
       "       -11.76637061, -11.66637061, -11.56637061, -11.46637061,\n",
       "       -11.36637061, -11.26637061, -11.16637061, -11.06637061,\n",
       "       -10.96637061, -10.86637061, -10.76637061, -10.66637061,\n",
       "       -10.56637061, -10.46637061, -10.36637061, -10.26637061,\n",
       "       -10.16637061, -10.06637061,  -9.96637061,  -9.86637061,\n",
       "        -9.76637061,  -9.66637061,  -9.56637061,  -9.46637061,\n",
       "        -9.36637061,  -9.26637061,  -9.16637061,  -9.06637061,\n",
       "        -8.96637061,  -8.86637061,  -8.76637061,  -8.66637061,\n",
       "        -8.56637061,  -8.46637061,  -8.36637061,  -8.26637061,\n",
       "        -8.16637061,  -8.06637061,  -7.96637061,  -7.86637061,\n",
       "        -7.76637061,  -7.66637061,  -7.56637061,  -7.46637061,\n",
       "        -7.36637061,  -7.26637061,  -7.16637061,  -7.06637061,\n",
       "        -6.96637061,  -6.86637061,  -6.76637061,  -6.66637061,\n",
       "        -6.56637061,  -6.46637061,  -6.36637061,  -6.26637061,\n",
       "        -6.16637061,  -6.06637061,  -5.96637061,  -5.86637061,\n",
       "        -5.76637061,  -5.66637061,  -5.56637061,  -5.46637061,\n",
       "        -5.36637061,  -5.26637061,  -5.16637061,  -5.06637061,\n",
       "        -4.96637061,  -4.86637061,  -4.76637061,  -4.66637061,\n",
       "        -4.56637061,  -4.46637061,  -4.36637061,  -4.26637061,\n",
       "        -4.16637061,  -4.06637061,  -3.96637061,  -3.86637061,\n",
       "        -3.76637061,  -3.66637061,  -3.56637061,  -3.46637061,\n",
       "        -3.36637061,  -3.26637061,  -3.16637061,  -3.06637061,\n",
       "        -2.96637061,  -2.86637061,  -2.76637061,  -2.66637061,\n",
       "        -2.56637061,  -2.46637061,  -2.36637061,  -2.26637061,\n",
       "        -2.16637061,  -2.06637061,  -1.96637061,  -1.86637061,\n",
       "        -1.76637061,  -1.66637061,  -1.56637061,  -1.46637061,\n",
       "        -1.36637061,  -1.26637061,  -1.16637061,  -1.06637061,\n",
       "        -0.96637061,  -0.86637061,  -0.76637061,  -0.66637061,\n",
       "        -0.56637061,  -0.46637061,  -0.36637061,  -0.26637061,\n",
       "        -0.16637061,  -0.06637061,   0.03362939,   0.13362939,\n",
       "         0.23362939,   0.33362939,   0.43362939,   0.53362939,\n",
       "         0.63362939,   0.73362939,   0.83362939,   0.93362939,\n",
       "         1.03362939,   1.13362939,   1.23362939,   1.33362939,\n",
       "         1.43362939,   1.53362939,   1.63362939,   1.73362939,\n",
       "         1.83362939,   1.93362939,   2.03362939,   2.13362939,\n",
       "         2.23362939,   2.33362939,   2.43362939,   2.53362939,\n",
       "         2.63362939,   2.73362939,   2.83362939,   2.93362939,\n",
       "         3.03362939,   3.13362939,   3.23362939,   3.33362939,\n",
       "         3.43362939,   3.53362939,   3.63362939,   3.73362939,\n",
       "         3.83362939,   3.93362939,   4.03362939,   4.13362939,\n",
       "         4.23362939,   4.33362939,   4.43362939,   4.53362939,\n",
       "         4.63362939,   4.73362939,   4.83362939,   4.93362939,\n",
       "         5.03362939,   5.13362939,   5.23362939,   5.33362939,\n",
       "         5.43362939,   5.53362939,   5.63362939,   5.73362939,\n",
       "         5.83362939,   5.93362939,   6.03362939,   6.13362939,\n",
       "         6.23362939,   6.33362939,   6.43362939,   6.53362939,\n",
       "         6.63362939,   6.73362939,   6.83362939,   6.93362939,\n",
       "         7.03362939,   7.13362939,   7.23362939,   7.33362939,\n",
       "         7.43362939,   7.53362939,   7.63362939,   7.73362939,\n",
       "         7.83362939,   7.93362939,   8.03362939,   8.13362939,\n",
       "         8.23362939,   8.33362939,   8.43362939,   8.53362939,\n",
       "         8.63362939,   8.73362939,   8.83362939,   8.93362939,\n",
       "         9.03362939,   9.13362939,   9.23362939,   9.33362939,\n",
       "         9.43362939,   9.53362939,   9.63362939,   9.73362939,\n",
       "         9.83362939,   9.93362939,  10.03362939,  10.13362939,\n",
       "        10.23362939,  10.33362939,  10.43362939,  10.53362939,\n",
       "        10.63362939,  10.73362939,  10.83362939,  10.93362939,\n",
       "        11.03362939,  11.13362939,  11.23362939,  11.33362939,\n",
       "        11.43362939,  11.53362939,  11.63362939,  11.73362939,\n",
       "        11.83362939,  11.93362939,  12.03362939,  12.13362939,\n",
       "        12.23362939,  12.33362939,  12.43362939,  12.53362939])"
      ]
     },
     "execution_count": 83,
     "metadata": {},
     "output_type": "execute_result"
    }
   ],
   "source": [
    "from math import pi\n",
    "x = np.arange(-4*pi, 4*pi, 0.1)\n",
    "x"
   ]
  },
  {
   "cell_type": "code",
   "execution_count": 84,
   "metadata": {},
   "outputs": [
    {
     "data": {
      "text/plain": [
       "array([1.57913670e+02, 1.54165836e+02, 1.50470304e+02, 1.46838888e+02,\n",
       "       1.43282766e+02, 1.39812374e+02, 1.36437305e+02, 1.33166226e+02,\n",
       "       1.30006800e+02, 1.26965621e+02, 1.24048164e+02, 1.21258741e+02,\n",
       "       1.18600479e+02, 1.16075303e+02, 1.13683936e+02, 1.11425909e+02,\n",
       "       1.09299590e+02, 1.07302213e+02, 1.05429932e+02, 1.03677875e+02,\n",
       "       1.02040214e+02, 1.00510245e+02, 9.90804664e+01, 9.77426795e+01,\n",
       "       9.64880824e+01, 9.53073749e+01, 9.41908655e+01, 9.31285808e+01,\n",
       "       9.21103766e+01, 9.11260482e+01, 9.01654404e+01, 8.92185546e+01,\n",
       "       8.82756523e+01, 8.73273544e+01, 8.63647347e+01, 8.53794069e+01,\n",
       "       8.43636043e+01, 8.33102515e+01, 8.22130268e+01, 8.10664161e+01,\n",
       "       7.98657562e+01, 7.86072687e+01, 7.72880832e+01, 7.59062503e+01,\n",
       "       7.44607442e+01, 7.29514551e+01, 7.13791716e+01, 6.97455536e+01,\n",
       "       6.80530961e+01, 6.63050842e+01, 6.45055407e+01, 6.26591657e+01,\n",
       "       6.07712704e+01, 5.88477056e+01, 5.68947845e+01, 5.49192031e+01,\n",
       "       5.29279569e+01, 5.09282564e+01, 4.89274418e+01, 4.69328976e+01,\n",
       "       4.49519688e+01, 4.29918792e+01, 4.10596527e+01, 3.91620385e+01,\n",
       "       3.73054410e+01, 3.54958549e+01, 3.37388071e+01, 3.20393045e+01,\n",
       "       3.04017894e+01, 2.88301019e+01, 2.73274509e+01, 2.58963928e+01,\n",
       "       2.45388177e+01, 2.32559450e+01, 2.20483262e+01, 2.09158557e+01,\n",
       "       1.98577893e+01, 1.88727701e+01, 1.79588612e+01, 1.71135842e+01,\n",
       "       1.63339642e+01, 1.56165791e+01, 1.49576141e+01, 1.43529188e+01,\n",
       "       1.37980683e+01, 1.32884254e+01, 1.28192048e+01, 1.23855370e+01,\n",
       "       1.19825327e+01, 1.16053453e+01, 1.12492321e+01, 1.09096120e+01,\n",
       "       1.05821211e+01, 1.02626627e+01, 9.94745469e+00, 9.63306993e+00,\n",
       "       9.31647246e+00, 8.99504717e+00, 8.66662347e+00, 8.32949252e+00,\n",
       "       7.98241792e+00, 7.62463989e+00, 7.25587278e+00, 6.87629632e+00,\n",
       "       6.48654058e+00, 6.08766498e+00, 5.68113187e+00, 5.26877475e+00,\n",
       "       4.85276208e+00, 4.43555675e+00, 4.01987218e+00, 3.60862547e+00,\n",
       "       3.20488833e+00, 2.81183648e+00, 2.43269819e+00, 2.07070276e+00,\n",
       "       1.72902954e+00, 1.41075823e+00, 1.11882116e+00, 8.55958203e-01,\n",
       "       6.24674806e-01, 4.27203914e-01, 2.65472109e-01, 1.41070518e-01,\n",
       "       5.52308497e-02, 8.80688352e-03, 2.26165800e-03, 3.56605285e-02,\n",
       "       1.08670188e-01, 2.20563663e-01, 3.70231218e-01, 5.56197026e-01,\n",
       "       7.76641376e-01, 1.02942813e+00, 1.31213705e+00, 1.62210059e+00,\n",
       "       1.95644461e+00, 2.31213250e+00, 2.68601217e+00, 3.07486511e+00,\n",
       "       3.47545703e+00, 3.88458934e+00, 4.29915064e+00, 4.71616772e+00,\n",
       "       5.13285520e+00, 5.54666315e+00, 5.95532210e+00, 6.35688465e+00,\n",
       "       6.74976321e+00, 7.13276327e+00, 7.50511158e+00, 7.86647904e+00,\n",
       "       8.21699762e+00, 8.55727131e+00, 8.88838058e+00, 9.21188044e+00,\n",
       "       9.52979190e+00, 9.84458679e+00, 1.01591663e+01, 1.04768331e+01,\n",
       "       1.08012575e+01, 1.11364378e+01, 1.14866561e+01, 1.18564280e+01,\n",
       "       1.22504497e+01, 1.26735404e+01, 1.31305822e+01, 1.36264580e+01,\n",
       "       1.41659879e+01, 1.47538645e+01, 1.53945894e+01, 1.60924094e+01,\n",
       "       1.68512558e+01, 1.76746855e+01, 1.85658255e+01, 1.95273218e+01,\n",
       "       2.05612932e+01, 2.16692906e+01, 2.28522617e+01, 2.41105238e+01,\n",
       "       2.54437419e+01, 2.68509163e+01, 2.83303761e+01, 2.98797821e+01,\n",
       "       3.14961370e+01, 3.31758046e+01, 3.49145360e+01, 3.67075046e+01,\n",
       "       3.85493485e+01, 4.04342198e+01, 4.23558415e+01, 4.43075698e+01,\n",
       "       4.62824628e+01, 4.82733537e+01, 5.02729282e+01, 5.22738055e+01,\n",
       "       5.42686217e+01, 5.62501144e+01, 5.82112083e+01, 6.01451002e+01,\n",
       "       6.20453425e+01, 6.39059243e+01, 6.57213498e+01, 6.74867109e+01,\n",
       "       6.91977564e+01, 7.08509534e+01, 7.24435428e+01, 7.39735870e+01,\n",
       "       7.54400086e+01, 7.68426208e+01, 7.81821482e+01, 7.94602376e+01,\n",
       "       8.06794588e+01, 8.18432950e+01, 8.29561228e+01, 8.40231821e+01,\n",
       "       8.50505355e+01, 8.60450183e+01, 8.70141782e+01, 8.79662070e+01,\n",
       "       8.89098634e+01, 8.98543882e+01, 9.08094129e+01, 9.17848622e+01,\n",
       "       9.27908516e+01, 9.38375817e+01, 9.49352286e+01, 9.60938338e+01,\n",
       "       9.73231932e+01, 9.86327471e+01, 1.00031472e+02, 1.01527776e+02,\n",
       "       1.03129398e+02, 1.04843314e+02, 1.06675648e+02, 1.08631593e+02,\n",
       "       1.10715336e+02, 1.12930005e+02, 1.15277606e+02, 1.17758992e+02,\n",
       "       1.20373834e+02, 1.23120598e+02, 1.25996553e+02, 1.28997771e+02,\n",
       "       1.32119154e+02, 1.35354469e+02, 1.38696397e+02, 1.42136592e+02,\n",
       "       1.45665755e+02, 1.49273715e+02, 1.52949527e+02, 1.56681572e+02])"
      ]
     },
     "execution_count": 84,
     "metadata": {},
     "output_type": "execute_result"
    }
   ],
   "source": [
    "y = x*np.sin(x) + x**2\n",
    "y"
   ]
  },
  {
   "cell_type": "code",
   "execution_count": 85,
   "metadata": {},
   "outputs": [
    {
     "data": {
      "image/png": "[encoded data removed]",
      "text/plain": [
       "<Figure size 1600x800 with 1 Axes>"
      ]
     },
     "metadata": {},
     "output_type": "display_data"
    }
   ],
   "source": [
    "import matplotlib.pyplot as plt\n",
    "plt.figure(figsize=(16,8))\n",
    "plt.plot(x,y)\n",
    "plt.title('Plot for y = x*sin(x + x**2)')\n",
    "plt.grid()\n",
    "plt.show()"
   ]
  },
  {
   "cell_type": "code",
   "execution_count": 86,
   "metadata": {},
   "outputs": [
    {
     "data": {
      "text/plain": [
       "2.718281828459045"
      ]
     },
     "execution_count": 86,
     "metadata": {},
     "output_type": "execute_result"
    }
   ],
   "source": [
    "e = np.exp(1)\n",
    "e"
   ]
  },
  {
   "cell_type": "code",
   "execution_count": 87,
   "metadata": {},
   "outputs": [
    {
     "data": {
      "text/plain": [
       "7.3890560989306495"
      ]
     },
     "execution_count": 87,
     "metadata": {},
     "output_type": "execute_result"
    }
   ],
   "source": [
    "e**2"
   ]
  },
  {
   "cell_type": "code",
   "execution_count": 88,
   "metadata": {},
   "outputs": [
    {
     "data": {
      "text/plain": [
       "54.59815003314423"
      ]
     },
     "execution_count": 88,
     "metadata": {},
     "output_type": "execute_result"
    }
   ],
   "source": [
    "e**4"
   ]
  },
  {
   "cell_type": "code",
   "execution_count": 89,
   "metadata": {},
   "outputs": [],
   "source": [
    "v = np.array([[[4,5],\n",
    "               [6,7]],\n",
    "\n",
    "               [[8,9],\n",
    "                [2,3]]])"
   ]
  },
  {
   "cell_type": "code",
   "execution_count": 90,
   "metadata": {},
   "outputs": [
    {
     "data": {
      "text/plain": [
       "3"
      ]
     },
     "execution_count": 90,
     "metadata": {},
     "output_type": "execute_result"
    }
   ],
   "source": [
    "np.ndim(v)"
   ]
  },
  {
   "cell_type": "code",
   "execution_count": 91,
   "metadata": {},
   "outputs": [
    {
     "data": {
      "text/plain": [
       "(2, 2, 2)"
      ]
     },
     "execution_count": 91,
     "metadata": {},
     "output_type": "execute_result"
    }
   ],
   "source": [
    "v.shape"
   ]
  },
  {
   "cell_type": "code",
   "execution_count": 93,
   "metadata": {},
   "outputs": [
    {
     "data": {
      "text/plain": [
       "array([[4, 5],\n",
       "       [6, 7],\n",
       "       [8, 9],\n",
       "       [2, 3]])"
      ]
     },
     "execution_count": 93,
     "metadata": {},
     "output_type": "execute_result"
    }
   ],
   "source": [
    "v.reshape(4,2)"
   ]
  },
  {
   "cell_type": "code",
   "execution_count": null,
   "metadata": {},
   "outputs": [],
   "source": []
  }
 ],
 "metadata": {
  "kernelspec": {
   "display_name": "venv",
   "language": "python",
   "name": "python3"
  },
  "language_info": {
   "codemirror_mode": {
    "name": "ipython",
    "version": 3
   },
   "file_extension": ".py",
   "mimetype": "text/x-python",
   "name": "python",
   "nbconvert_exporter": "python",
   "pygments_lexer": "ipython3",
   "version": "3.11.1"
  },
  "orig_nbformat": 4
 },
 "nbformat": 4,
 "nbformat_minor": 2
}
